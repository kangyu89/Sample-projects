{
 "cells": [
  {
   "cell_type": "markdown",
   "metadata": {},
   "source": [
   ]
  },
  {
   "cell_type": "markdown",
   "metadata": {},
   "source": [
    "# Assignment 1\n",
    "\n",
    "In this assignment, you'll be working with messy medical data and using regex to extract relevant infromation from the data. \n",
    "\n",
    "Each line of the `dates.txt` file corresponds to a medical note. Each note has a date that needs to be extracted, but each date is encoded in one of many formats.\n",
    "\n",
    "The goal of this assignment is to correctly identify all of the different date variants encoded in this dataset and to properly normalize and sort the dates. \n",
    "\n",
    "Here is a list of some of the variants you might encounter in this dataset:\n",
    "* 04/20/2009; 04/20/09; 4/20/09; 4/3/09\n",
    "* Mar-20-2009; Mar 20, 2009; March 20, 2009;  Mar. 20, 2009; Mar 20 2009;\n",
    "* 20 Mar 2009; 20 March 2009; 20 Mar. 2009; 20 March, 2009\n",
    "* Mar 20th, 2009; Mar 21st, 2009; Mar 22nd, 2009\n",
    "* Feb 2009; Sep 2009; Oct 2010\n",
    "* 6/2008; 12/2009\n",
    "* 2009; 2010\n",
    "\n",
    "Once you have extracted these date patterns from the text, the next step is to sort them in ascending chronological order accoring to the following rules:\n",
    "* Assume all dates in xx/xx/xx format are mm/dd/yy\n",
    "* Assume all dates where year is encoded in only two digits are years from the 1900's (e.g. 1/5/89 is January 5th, 1989)\n",
    "* If the day is missing (e.g. 9/2009), assume it is the first day of the month (e.g. September 1, 2009).\n",
    "* If the month is missing (e.g. 2010), assume it is the first of January of that year (e.g. January 1, 2010).\n",
    "* Watch out for potential typos as this is a raw, real-life derived dataset.\n",
    "\n",
    "With these rules in mind, find the correct date in each note and return a pandas Series in chronological order of the original Series' indices.\n",
    "\n",
    "For example if the original series was this:\n",
    "\n",
    "    0    1999\n",
    "    1    2010\n",
    "    2    1978\n",
    "    3    2015\n",
    "    4    1985\n",
    "\n",
    "Your function should return this:\n",
    "\n",
    "    0    2\n",
    "    1    4\n",
    "    2    0\n",
    "    3    1\n",
    "    4    3\n",
    "\n",
    "Your score will be calculated using [Kendall's tau](https://en.wikipedia.org/wiki/Kendall_rank_correlation_coefficient), a correlation measure for ordinal data.\n",
    "\n",
    "*This function should return a Series of length 500 and dtype int.*"
   ]
  },
  {
   "cell_type": "code",
   "execution_count": 4,
   "metadata": {},
   "outputs": [
    {
     "data": {
      "text/plain": [
       "0         03/25/93 total time of visit (in minutes):\\n\n",
       "1                       6/18/85 primary care doctor:\\n\n",
       "2    sshe plans to move as of 7/8/71 in-home servic...\n",
       "3                7 on 9/27/75 audit c score current:\\n\n",
       "4    2/6/96 sleep studypain treatment pain level (n...\n",
       "dtype: object"
      ]
     },
     "execution_count": 4,
     "metadata": {},
     "output_type": "execute_result"
    }
   ],
   "source": [
    "import pandas as pd\n",
    "import datetime\n",
    "\n",
    "#defining function for returning months in integers\n",
    "def monthTonum(shortMonth):\n",
    "    return{\n",
    "        'jan' : 1,'feb' : 2,'mar' : 3,'apr' : 4,'may' : 5,'jun' : 6,\n",
    "        'jul' : 7,'aug' : 8,'sep' : 9,'oct' : 10,'nov' : 11,'dec' : 12\n",
    "    }[shortMonth]\n",
    "\n",
    "doc = []\n",
    "with open('dates.txt') as file:\n",
    "    for line in file:\n",
    "        doc.append(line.lower())\n",
    "\n",
    "df = pd.Series(doc)\n",
    "df.head()"
   ]
  },
  {
   "cell_type": "code",
   "execution_count": 5,
   "metadata": {},
   "outputs": [
    {
     "name": "stderr",
     "output_type": "stream",
     "text": [
     ]
    },
    {
     "data": {
      "text/plain": [
       "Int64Index([  9,  84,   2,  53,  28, 474, 153,  13, 129,  98,\n",
       "            ...\n",
       "            152, 235, 464, 253, 231, 427, 141, 186, 161, 413],\n",
       "           dtype='int64', length=500)"
      ]
     },
     "execution_count": 5,
     "metadata": {},
     "output_type": "execute_result"
    }
   ],
   "source": [
    "def date_sorter():\n",
    " \n",
    "    # finding first possible format - all digits.\n",
    "    df['dates'] = df.str.extract(r'(\\d?\\d)[./-]+(\\d?\\d)[./-]+(\\d?\\d?\\d{2})')\n",
    "    df['dates'].dropna(inplace = True)\n",
    "    df['dates'] = df['dates'].astype(int)\n",
    " \n",
    "    # --> To check columns with values more than 31.\n",
    "    #df['dates']['check1'] = df['dates'][df['dates']>31].count(axis=1)\n",
    "    #df['dates'][df['dates']['check1']>1]\n",
    "    df['dates']['yy'] = df['dates'].values.max(axis=1)\n",
    " \n",
    "    # --> Assume [0] is month, [1] is day.\n",
    "    df['dates']['cleaned_d'] = df['dates'][1]\n",
    "    df['dates']['cleaned_m'] = df['dates'][0]\n",
    "    for i, row in df['dates'].iterrows():\n",
    "        if row['yy'] < 100:\n",
    "            df['dates'].loc[i,'cleaned_yyyy'] = 1900 + row['yy']\n",
    "        else:\n",
    "            df['dates'].loc[i,'cleaned_yyyy'] = row['yy']\n",
    "   \n",
    "    # finding day-mmm-year dates\n",
    "    df['dates1'] = df.str.extract(r'(\\d?\\d)[st|nd|rd|th]?[- ,.]*?(jan|feb|mar|apr|may|jun|jul|aug|sep|oct|nov|dec)[a-z]*[- ,.]*?(\\d?\\d?\\d{2})')\n",
    "    df['dates1'] = df['dates1'].dropna()\n",
    " \n",
    "    df['dates1'][[0,2]] = df['dates1'][[0,2]].astype(int)\n",
    "    # df['dates1'][2]<1900 yielded no results; all were in yyyy format.\n",
    "    # df['dates1'][0]>31 yielded no results.\n",
    "    df['dates1']['cleaned_d'] = df['dates1'][0]\n",
    "    for i, rows in df['dates1'].iterrows():\n",
    "        df['dates1'].loc[i, 'cleaned_m'] = monthTonum(rows[1])\n",
    "        df['dates1']['cleaned_yyyy'] = df['dates1'][2]\n",
    " \n",
    "    #finding mmm-day-year dates\n",
    "    df['dates2'] = df.str.extract(r'(jan|feb|mar|apr|may|jun|jul|aug|sep|oct|nov|dec)[a-z]*[- ,.][- ,.]?(\\d?\\d)[st|nd|rd|th]?[- ,.]?[- ,$.]?(\\d{4})')\n",
    "    df['dates2'] = df['dates2'].dropna()\n",
    "    df['dates2'][[1,2]] = df['dates2'][[1,2]].astype(int)\n",
    "    df['dates2']['cleaned_d'] = df['dates2'][1]\n",
    "    for i, rows in df['dates2'].iterrows():\n",
    "        df['dates2'].loc[i, 'cleaned_m'] = monthTonum(rows[0])\n",
    "    df['dates2']['cleaned_yyyy'] = df['dates2'][2]\n",
    " \n",
    "    dfgt = df['dates1'][['cleaned_d','cleaned_m','cleaned_yyyy']].append(df['dates2'][['cleaned_d','cleaned_m','cleaned_yyyy']]).append(df['dates'][['cleaned_d','cleaned_m','cleaned_yyyy']])\n",
    "   \n",
    "    #finding mmm-year dates; assuming day==1 in remaining lines\n",
    "    df['dates3'] = df[([i for i in range(500) if i not in dfgt.index.tolist()])].str.extract(r'[\\D{3}]?(jan|feb|mar|apr|may|jun|jul|aug|sep|oct|nov|dec)[a-z]*[- ,.]*?(\\d{4})')\n",
    "    df['dates3'] = df['dates3'].dropna()\n",
    "    for i, row in df['dates3'].iterrows():\n",
    "        df['dates3'].loc[i,'cleaned_d'] = 1\n",
    "        df['dates3'].loc[i,'cleaned_m'] = monthTonum(row[0])\n",
    "        df['dates3'].loc[i,'cleaned_yyyy'] = row[1]\n",
    "    dfgt = dfgt.append(df['dates3'][['cleaned_d','cleaned_m','cleaned_yyyy']])\n",
    "   \n",
    "    #finding mm/yyyy; assuming day==1\n",
    "    df4 = df[[i for i in range(500) if i not in dfgt.index.tolist()]].str.extract(r'(\\d?\\d)/(\\d{4})')\n",
    "    df4 = df4.dropna()\n",
    "    df4['cleaned_d'] = 1\n",
    "    df4['cleaned_m'] = df4[0].astype(int)\n",
    "    df4['cleaned_yyyy'] = df4[1].astype(int)\n",
    " \n",
    "    dfgt = dfgt.append(df4[['cleaned_d','cleaned_m','cleaned_yyyy']])\n",
    "   \n",
    "    #finding yyyy only; assuming day==1, month==1\n",
    "    df5 = pd.DataFrame()\n",
    "    df5['cleaned_yyyy'] = df[[i for i in range(500) if i not in dfgt.index.tolist()]].str.extract(r'(\\d{4})')\n",
    "    df5['cleaned_d'] = 1\n",
    "    df5['cleaned_m'] = 1\n",
    " \n",
    "    dfgt = dfgt.append(df5[['cleaned_d','cleaned_m','cleaned_yyyy']])\n",
    " \n",
    "    dfgt = dfgt.astype(int)\n",
    "    for i, rows in dfgt.iterrows():\n",
    "        dfgt.loc[i,'cleaned_date'] = datetime.datetime(year=rows['cleaned_yyyy'], month=rows['cleaned_m'], day=rows['cleaned_d'])\n",
    "   \n",
    "    return dfgt.sort_values(by='cleaned_date').index\n",
    " \n",
    "date_sorter()"
   ]
  }
 ],
 "metadata": {
  "coursera": {
   "course_slug": "python-text-mining",
   "graded_item_id": "LvcWI",
   "launcher_item_id": "krne9",
   "part_id": "Mkp1I"
  },
  "kernelspec": {
   "display_name": "Python 3",
   "language": "python",
   "name": "python3"
  },
  "language_info": {
   "codemirror_mode": {
    "name": "ipython",
    "version": 3
   },
   "file_extension": ".py",
   "mimetype": "text/x-python",
   "name": "python",
   "nbconvert_exporter": "python",
   "pygments_lexer": "ipython3",
   "version": "3.6.0"
  }
 },
 "nbformat": 4,
 "nbformat_minor": 2
}
